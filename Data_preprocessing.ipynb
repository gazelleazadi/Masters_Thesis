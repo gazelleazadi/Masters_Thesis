{
 "cells": [
  {
   "cell_type": "markdown",
   "metadata": {},
   "source": [
    "# Making the blocks"
   ]
  },
  {
   "cell_type": "markdown",
   "metadata": {},
   "source": [
    "In this jupyter file, we both made two dataframes of features and the target vector. \n",
    "\n",
    "By numerizing the nominal variables and changing the date features to numbers, our two blocks of features would be prepared to be used in machine learning algorithms. "
   ]
  },
  {
   "cell_type": "code",
   "execution_count": 1,
   "metadata": {},
   "outputs": [],
   "source": [
    "import numpy as np\n",
    "import pandas as pd\n",
    "from sklearn.preprocessing import OneHotEncoder\n",
    "from sklearn.impute import KNNImputer\n",
    "from sklearn.experimental import enable_iterative_imputer\n",
    "from sklearn.impute import IterativeImputer\n",
    "from sklearn.impute import SimpleImputer"
   ]
  },
  {
   "cell_type": "markdown",
   "metadata": {},
   "source": [
    "## The first block "
   ]
  },
  {
   "cell_type": "code",
   "execution_count": 2,
   "metadata": {},
   "outputs": [],
   "source": [
    "df1 = pd.read_csv('NNTG_NEC-retrospective register_LIVE_enc_Form 1.csv', \n",
    "                  sep=';' )"
   ]
  },
  {
   "cell_type": "code",
   "execution_count": 3,
   "metadata": {},
   "outputs": [
    {
     "data": {
      "text/plain": [
       "DATEBRTH     0\n",
       "SEX          0\n",
       "PATNO        0\n",
       "DATEDIAG     0\n",
       "DATEMET      0\n",
       "PRIMTUM      0\n",
       "PRTUMRES     0\n",
       "DATESURG    51\n",
       "NONE         0\n",
       "SURGMET      0\n",
       "RADTHRPY     0\n",
       "SMOKHAB      0\n",
       "STRPTCYT     0\n",
       "SANDOSTN     0\n",
       "PROTHRCA     0\n",
       "INTRFERN     0\n",
       "OTHRPRTH     0\n",
       "MORPH        0\n",
       "KI67         1\n",
       "CGA1         0\n",
       "SYNAPTOF     0\n",
       "OCTREO       0\n",
       "TISSUEBL     0\n",
       "LIVER        0\n",
       "LYMPHNDS     0\n",
       "LUNG         0\n",
       "BONE         0\n",
       "PERFSTAT     0\n",
       "OTHRORGM     0\n",
       "BRAIN        0\n",
       "BMI          1\n",
       "HORMSYMP     0\n",
       "DATESYMP    74\n",
       "CARSYNDR     0\n",
       "dtype: int64"
      ]
     },
     "execution_count": 3,
     "metadata": {},
     "output_type": "execute_result"
    }
   ],
   "source": [
    "df1.isnull().sum() # To know the number of missing values"
   ]
  },
  {
   "cell_type": "code",
   "execution_count": 4,
   "metadata": {},
   "outputs": [
    {
     "data": {
      "text/plain": [
       "Index(['DATEBRTH', 'SEX', 'PATNO', 'DATEDIAG', 'DATEMET', 'PRIMTUM',\n",
       "       'PRTUMRES', 'DATESURG', 'NONE', 'SURGMET', 'RADTHRPY', 'SMOKHAB',\n",
       "       'STRPTCYT', 'SANDOSTN', 'PROTHRCA', 'INTRFERN', 'OTHRPRTH', 'MORPH',\n",
       "       'KI67', 'CGA1', 'SYNAPTOF', 'OCTREO', 'TISSUEBL', 'LIVER', 'LYMPHNDS',\n",
       "       'LUNG', 'BONE', 'PERFSTAT', 'OTHRORGM', 'BRAIN', 'BMI', 'HORMSYMP',\n",
       "       'DATESYMP', 'CARSYNDR'],\n",
       "      dtype='object')"
      ]
     },
     "execution_count": 4,
     "metadata": {},
     "output_type": "execute_result"
    }
   ],
   "source": [
    "df1.columns"
   ]
  },
  {
   "cell_type": "code",
   "execution_count": 5,
   "metadata": {},
   "outputs": [
    {
     "data": {
      "text/html": [
       "<div>\n",
       "<style scoped>\n",
       "    .dataframe tbody tr th:only-of-type {\n",
       "        vertical-align: middle;\n",
       "    }\n",
       "\n",
       "    .dataframe tbody tr th {\n",
       "        vertical-align: top;\n",
       "    }\n",
       "\n",
       "    .dataframe thead th {\n",
       "        text-align: right;\n",
       "    }\n",
       "</style>\n",
       "<table border=\"1\" class=\"dataframe\">\n",
       "  <thead>\n",
       "    <tr style=\"text-align: right;\">\n",
       "      <th></th>\n",
       "      <th>DATEBRTH</th>\n",
       "      <th>SEX</th>\n",
       "      <th>PATNO</th>\n",
       "      <th>DATEDIAG</th>\n",
       "      <th>DATEMET</th>\n",
       "      <th>PRIMTUM</th>\n",
       "      <th>PRTUMRES</th>\n",
       "      <th>DATESURG</th>\n",
       "      <th>NONE</th>\n",
       "      <th>SURGMET</th>\n",
       "      <th>...</th>\n",
       "      <th>LYMPHNDS</th>\n",
       "      <th>LUNG</th>\n",
       "      <th>BONE</th>\n",
       "      <th>PERFSTAT</th>\n",
       "      <th>OTHRORGM</th>\n",
       "      <th>BRAIN</th>\n",
       "      <th>BMI</th>\n",
       "      <th>HORMSYMP</th>\n",
       "      <th>DATESYMP</th>\n",
       "      <th>CARSYNDR</th>\n",
       "    </tr>\n",
       "  </thead>\n",
       "  <tbody>\n",
       "    <tr>\n",
       "      <th>0</th>\n",
       "      <td>01mar1942</td>\n",
       "      <td>Male</td>\n",
       "      <td>4001</td>\n",
       "      <td>20sep2006</td>\n",
       "      <td>20sep2006</td>\n",
       "      <td>Gastric</td>\n",
       "      <td>No</td>\n",
       "      <td>NaN</td>\n",
       "      <td>Yes</td>\n",
       "      <td>No</td>\n",
       "      <td>...</td>\n",
       "      <td>Yes</td>\n",
       "      <td>Yes</td>\n",
       "      <td>Yes</td>\n",
       "      <td>WHO 1</td>\n",
       "      <td>No</td>\n",
       "      <td>No</td>\n",
       "      <td>30.0</td>\n",
       "      <td>No</td>\n",
       "      <td>NaN</td>\n",
       "      <td>No</td>\n",
       "    </tr>\n",
       "    <tr>\n",
       "      <th>1</th>\n",
       "      <td>03mar1940</td>\n",
       "      <td>Female</td>\n",
       "      <td>4003</td>\n",
       "      <td>29sep2006</td>\n",
       "      <td>29sep2006</td>\n",
       "      <td>Other</td>\n",
       "      <td>No</td>\n",
       "      <td>NaN</td>\n",
       "      <td>No</td>\n",
       "      <td>No</td>\n",
       "      <td>...</td>\n",
       "      <td>Yes</td>\n",
       "      <td>Yes</td>\n",
       "      <td>Yes</td>\n",
       "      <td>WHO 1</td>\n",
       "      <td>No</td>\n",
       "      <td>No</td>\n",
       "      <td>32.0</td>\n",
       "      <td>No</td>\n",
       "      <td>NaN</td>\n",
       "      <td>No</td>\n",
       "    </tr>\n",
       "    <tr>\n",
       "      <th>2</th>\n",
       "      <td>03may1953</td>\n",
       "      <td>Male</td>\n",
       "      <td>4004</td>\n",
       "      <td>01dec2006</td>\n",
       "      <td>01dec2006</td>\n",
       "      <td>Colon</td>\n",
       "      <td>Yes</td>\n",
       "      <td>01dec2006</td>\n",
       "      <td>Yes</td>\n",
       "      <td>No</td>\n",
       "      <td>...</td>\n",
       "      <td>No</td>\n",
       "      <td>No</td>\n",
       "      <td>No</td>\n",
       "      <td>WHO 0</td>\n",
       "      <td>No</td>\n",
       "      <td>No</td>\n",
       "      <td>24.0</td>\n",
       "      <td>No</td>\n",
       "      <td>NaN</td>\n",
       "      <td>No</td>\n",
       "    </tr>\n",
       "    <tr>\n",
       "      <th>3</th>\n",
       "      <td>05oct1936</td>\n",
       "      <td>Female</td>\n",
       "      <td>4005</td>\n",
       "      <td>04may2005</td>\n",
       "      <td>06jun2005</td>\n",
       "      <td>Other</td>\n",
       "      <td>Yes</td>\n",
       "      <td>04may2005</td>\n",
       "      <td>Yes</td>\n",
       "      <td>No</td>\n",
       "      <td>...</td>\n",
       "      <td>No</td>\n",
       "      <td>No</td>\n",
       "      <td>No</td>\n",
       "      <td>WHO 0</td>\n",
       "      <td>Yes</td>\n",
       "      <td>No</td>\n",
       "      <td>24.0</td>\n",
       "      <td>No</td>\n",
       "      <td>NaN</td>\n",
       "      <td>No</td>\n",
       "    </tr>\n",
       "    <tr>\n",
       "      <th>4</th>\n",
       "      <td>06nov1966</td>\n",
       "      <td>Male</td>\n",
       "      <td>4006</td>\n",
       "      <td>17jul2003</td>\n",
       "      <td>17jul2003</td>\n",
       "      <td>Pancreas</td>\n",
       "      <td>No</td>\n",
       "      <td>NaN</td>\n",
       "      <td>No</td>\n",
       "      <td>Yes</td>\n",
       "      <td>...</td>\n",
       "      <td>No</td>\n",
       "      <td>No</td>\n",
       "      <td>Yes</td>\n",
       "      <td>WHO 1</td>\n",
       "      <td>No</td>\n",
       "      <td>No</td>\n",
       "      <td>23.0</td>\n",
       "      <td>No</td>\n",
       "      <td>NaN</td>\n",
       "      <td>No</td>\n",
       "    </tr>\n",
       "  </tbody>\n",
       "</table>\n",
       "<p>5 rows × 34 columns</p>\n",
       "</div>"
      ],
      "text/plain": [
       "    DATEBRTH     SEX  PATNO   DATEDIAG    DATEMET   PRIMTUM PRTUMRES  \\\n",
       "0  01mar1942    Male   4001  20sep2006  20sep2006   Gastric       No   \n",
       "1  03mar1940  Female   4003  29sep2006  29sep2006     Other       No   \n",
       "2  03may1953    Male   4004  01dec2006  01dec2006     Colon      Yes   \n",
       "3  05oct1936  Female   4005  04may2005  06jun2005     Other      Yes   \n",
       "4  06nov1966    Male   4006  17jul2003  17jul2003  Pancreas       No   \n",
       "\n",
       "    DATESURG NONE SURGMET  ... LYMPHNDS LUNG BONE PERFSTAT OTHRORGM BRAIN  \\\n",
       "0        NaN  Yes      No  ...      Yes  Yes  Yes    WHO 1       No    No   \n",
       "1        NaN   No      No  ...      Yes  Yes  Yes    WHO 1       No    No   \n",
       "2  01dec2006  Yes      No  ...       No   No   No    WHO 0       No    No   \n",
       "3  04may2005  Yes      No  ...       No   No   No    WHO 0      Yes    No   \n",
       "4        NaN   No     Yes  ...       No   No  Yes    WHO 1       No    No   \n",
       "\n",
       "    BMI HORMSYMP  DATESYMP CARSYNDR  \n",
       "0  30.0       No       NaN       No  \n",
       "1  32.0       No       NaN       No  \n",
       "2  24.0       No       NaN       No  \n",
       "3  24.0       No       NaN       No  \n",
       "4  23.0       No       NaN       No  \n",
       "\n",
       "[5 rows x 34 columns]"
      ]
     },
     "execution_count": 5,
     "metadata": {},
     "output_type": "execute_result"
    }
   ],
   "source": [
    "df1.head() # Have an overview on the features and their types"
   ]
  },
  {
   "cell_type": "markdown",
   "metadata": {},
   "source": [
    "- We should now numerize this block. Based on the features' types we will implement different tasks to numerize the data"
   ]
  },
  {
   "cell_type": "code",
   "execution_count": 6,
   "metadata": {},
   "outputs": [],
   "source": [
    "import datetime\n",
    "def from_dob_to_age(born): # This function transforms the date of birth to age\n",
    "    today = datetime.date.today()\n",
    "    return today.year - born.year - ((today.month, today.day) < (born.month, born.day))"
   ]
  },
  {
   "cell_type": "markdown",
   "metadata": {},
   "source": [
    "REF: https://moonbooks.org/Articles/How-to-get-the-age-from-a-date-of-birth-DOB-in-python-/"
   ]
  },
  {
   "cell_type": "code",
   "execution_count": 7,
   "metadata": {},
   "outputs": [],
   "source": [
    "df1['DATEBRTH'] = pd.to_datetime(df1['DATEBRTH']) \n",
    "# Make sure the type of feature is datetime so we can use from_dob_to_age function\n",
    "df1['Age']= df1['DATEBRTH'].apply(lambda x: from_dob_to_age(x))"
   ]
  },
  {
   "cell_type": "code",
   "execution_count": 8,
   "metadata": {},
   "outputs": [],
   "source": [
    "df1['DATEDIAG'] = pd.to_datetime(df1['DATEDIAG'])\n",
    "df1['DATEMET'] = pd.to_datetime(df1['DATEMET'])"
   ]
  },
  {
   "cell_type": "code",
   "execution_count": 9,
   "metadata": {},
   "outputs": [],
   "source": [
    "df1['DATEMET - DATEDIAG'] = (df1['DATEMET'] -df1['DATEDIAG']).apply(lambda x: x.days)\n",
    "# Making a new feature which is the number of days between date of metastasis and date of diagnosis"
   ]
  },
  {
   "cell_type": "code",
   "execution_count": 10,
   "metadata": {},
   "outputs": [],
   "source": [
    "X = pd.concat([df1['Age'], df1['DATEMET - DATEDIAG']], axis=1)\n",
    "# X is representive of numerized transformation of the first block"
   ]
  },
  {
   "cell_type": "code",
   "execution_count": 11,
   "metadata": {},
   "outputs": [],
   "source": [
    "X[\"SEX\"]=np.where(df1[\"SEX\"] == 'Male', 0, 1) # Binarizing the SEX feature"
   ]
  },
  {
   "cell_type": "code",
   "execution_count": 12,
   "metadata": {},
   "outputs": [
    {
     "data": {
      "text/plain": [
       "array(['Colon', 'Esofagus', 'Gastric', 'Other', 'Pancreas', 'Rectum',\n",
       "       'Unknown'], dtype=object)"
      ]
     },
     "execution_count": 12,
     "metadata": {},
     "output_type": "execute_result"
    }
   ],
   "source": [
    "np.unique(df1['PRIMTUM']) # Wanna see how many levels this feature take"
   ]
  },
  {
   "cell_type": "code",
   "execution_count": 13,
   "metadata": {},
   "outputs": [],
   "source": [
    "X = pd.concat([X,pd.get_dummies(df1['PRIMTUM'], prefix='PRIMTUM')],axis=1)\n",
    "# This funtion dummifies the feature \"PRIMTUM\""
   ]
  },
  {
   "cell_type": "code",
   "execution_count": 14,
   "metadata": {},
   "outputs": [
    {
     "data": {
      "text/plain": [
       "array(['No', 'Yes'], dtype=object)"
      ]
     },
     "execution_count": 14,
     "metadata": {},
     "output_type": "execute_result"
    }
   ],
   "source": [
    "np.unique(df1[\"PRTUMRES\"]) # Wanna see how many levels this feature take"
   ]
  },
  {
   "cell_type": "code",
   "execution_count": 15,
   "metadata": {},
   "outputs": [],
   "source": [
    "# Since the levels of above feature is just two, instead of dummufication we simply assing 0 and 1 levels to it\n",
    "X[\"PRTUMRES\"]=np.where(df1[\"PRTUMRES\"] == 'No', 0, 1)"
   ]
  },
  {
   "cell_type": "code",
   "execution_count": 16,
   "metadata": {},
   "outputs": [],
   "source": [
    "# This also implies for the following features, as well\n",
    "X[\"OPT-NONE\"]=np.where(df1[\"NONE\"] == 'No', 0, 1)\n",
    "X[\"OPT-RADTHRPY\"]=np.where(df1[\"RADTHRPY\"] == 'No', 0, 1)\n",
    "X[\"OPT-STRPTCYT\"]=np.where(df1[\"STRPTCYT\"] == 'No', 0, 1)\n",
    "X[\"OPT-SANDOSTN\"]=np.where(df1[\"SANDOSTN\"] == 'No', 0, 1)\n",
    "X[\"OPT-INTRFERN\"]=np.where(df1[\"INTRFERN\"] == 'No', 0, 1)\n",
    "X[\"OPT-OTHRPRTH\"]=np.where(df1[\"OTHRPRTH\"] == 'No', 0, 1)\n",
    "X[\"SURGMET\"]=np.where(df1[\"SURGMET\"] == 'No', 0, 1)"
   ]
  },
  {
   "cell_type": "code",
   "execution_count": 17,
   "metadata": {},
   "outputs": [
    {
     "data": {
      "text/plain": [
       "array(['Ex-Smoker', 'Missing/NA', 'Non-Smoker', 'Smoker', 'Unknown'],\n",
       "      dtype=object)"
      ]
     },
     "execution_count": 17,
     "metadata": {},
     "output_type": "execute_result"
    }
   ],
   "source": [
    "np.unique(df1[\"SMOKHAB\"])"
   ]
  },
  {
   "cell_type": "code",
   "execution_count": 18,
   "metadata": {},
   "outputs": [],
   "source": [
    "X = pd.concat([X,pd.get_dummies(df1['SMOKHAB'], prefix='SMOKHAB')],axis=1)"
   ]
  },
  {
   "cell_type": "code",
   "execution_count": 19,
   "metadata": {},
   "outputs": [
    {
     "data": {
      "text/plain": [
       "array(['Missing/NA', 'No', 'Yes'], dtype=object)"
      ]
     },
     "execution_count": 19,
     "metadata": {},
     "output_type": "execute_result"
    }
   ],
   "source": [
    "np.unique(df1[\"PROTHRCA\"])"
   ]
  },
  {
   "cell_type": "code",
   "execution_count": 20,
   "metadata": {},
   "outputs": [],
   "source": [
    "X = pd.concat([X,pd.get_dummies(df1['PROTHRCA'], prefix='PROTHRCA')],axis=1)"
   ]
  },
  {
   "cell_type": "code",
   "execution_count": 21,
   "metadata": {},
   "outputs": [
    {
     "data": {
      "text/plain": [
       "array(['Large Cell Carcinoma', 'NA (Not Applicable)', 'Other',\n",
       "       'Small Cell Carcinoma'], dtype=object)"
      ]
     },
     "execution_count": 21,
     "metadata": {},
     "output_type": "execute_result"
    }
   ],
   "source": [
    "np.unique(df1[\"MORPH\"])"
   ]
  },
  {
   "cell_type": "code",
   "execution_count": 22,
   "metadata": {},
   "outputs": [],
   "source": [
    "X = pd.concat([X,pd.get_dummies(df1['MORPH'], prefix='MORPH')],axis=1)"
   ]
  },
  {
   "cell_type": "code",
   "execution_count": 23,
   "metadata": {},
   "outputs": [],
   "source": [
    "X = pd.concat([X,df1['KI67']],axis=1)\n",
    "# This feature consists of one missing value, so we should impute this item"
   ]
  },
  {
   "cell_type": "code",
   "execution_count": 24,
   "metadata": {},
   "outputs": [
    {
     "data": {
      "text/plain": [
       "nan"
      ]
     },
     "execution_count": 24,
     "metadata": {},
     "output_type": "execute_result"
    }
   ],
   "source": [
    "# Locating the missing item\n",
    "X['KI67'][1]"
   ]
  },
  {
   "cell_type": "markdown",
   "metadata": {},
   "source": [
    "We used three different methods to impute the missing value:\n",
    "\n",
    "1- KNN imputer"
   ]
  },
  {
   "cell_type": "code",
   "execution_count": 25,
   "metadata": {},
   "outputs": [
    {
     "name": "stdout",
     "output_type": "stream",
     "text": [
      "The first imputation method estimates the missing item as 58.0.\n"
     ]
    }
   ],
   "source": [
    "imputer = KNNImputer(n_neighbors=4, weights=\"uniform\")\n",
    "print('The first imputation method estimates the missing item as {}.'.format(pd.DataFrame(imputer.fit_transform(X))[30][1]))"
   ]
  },
  {
   "cell_type": "markdown",
   "metadata": {},
   "source": [
    "2- Iterative Imputer"
   ]
  },
  {
   "cell_type": "code",
   "execution_count": 26,
   "metadata": {},
   "outputs": [
    {
     "name": "stdout",
     "output_type": "stream",
     "text": [
      "The second imputation method estimates the missing item as 63.0.\n"
     ]
    }
   ],
   "source": [
    "imp = IterativeImputer(max_iter=20, random_state=0)\n",
    "imp.fit(X)\n",
    "print('The second imputation method estimates the missing item as {}.'.format(pd.DataFrame(np.round(imp.transform(X)))[30][1]))"
   ]
  },
  {
   "cell_type": "markdown",
   "metadata": {},
   "source": [
    "3- Simple Imputer with Median scale"
   ]
  },
  {
   "cell_type": "code",
   "execution_count": 27,
   "metadata": {},
   "outputs": [
    {
     "name": "stdout",
     "output_type": "stream",
     "text": [
      "The third imputation method estimates the missing item as 65.0.\n"
     ]
    }
   ],
   "source": [
    "imp = SimpleImputer(missing_values=np.nan, strategy='median')\n",
    "imp.fit(X)\n",
    "print('The third imputation method estimates the missing item as {}.'.format(pd.DataFrame(imp.transform(X))[30][1]))"
   ]
  },
  {
   "cell_type": "code",
   "execution_count": 28,
   "metadata": {},
   "outputs": [
    {
     "name": "stderr",
     "output_type": "stream",
     "text": [
      "<ipython-input-28-1318db00c500>:3: SettingWithCopyWarning: \n",
      "A value is trying to be set on a copy of a slice from a DataFrame\n",
      "\n",
      "See the caveats in the documentation: https://pandas.pydata.org/pandas-docs/stable/user_guide/indexing.html#returning-a-view-versus-a-copy\n",
      "  X['KI67'][1] = np.average(nan)\n"
     ]
    }
   ],
   "source": [
    "# Now using all the three methods, we impute the missing item by the average of three pobtained values:\n",
    "nan = [58, 63, 65]\n",
    "X['KI67'][1] = np.average(nan)"
   ]
  },
  {
   "cell_type": "markdown",
   "metadata": {},
   "source": [
    "The above result is mentioned in table 5.6 of thesis."
   ]
  },
  {
   "cell_type": "code",
   "execution_count": 29,
   "metadata": {},
   "outputs": [
    {
     "data": {
      "text/plain": [
       "array(['Negative', 'Not Done', 'Partly Positive', 'Strongly Positive'],\n",
       "      dtype=object)"
      ]
     },
     "execution_count": 29,
     "metadata": {},
     "output_type": "execute_result"
    }
   ],
   "source": [
    "np.unique(df1[\"CGA1\"])"
   ]
  },
  {
   "cell_type": "code",
   "execution_count": 30,
   "metadata": {},
   "outputs": [],
   "source": [
    "X = pd.concat([X,pd.get_dummies(df1['CGA1'], prefix='CGA1')],axis=1)"
   ]
  },
  {
   "cell_type": "code",
   "execution_count": 31,
   "metadata": {},
   "outputs": [
    {
     "data": {
      "text/plain": [
       "array(['Negative', 'Not Done', 'Partly Positive', 'Strongly Positive'],\n",
       "      dtype=object)"
      ]
     },
     "execution_count": 31,
     "metadata": {},
     "output_type": "execute_result"
    }
   ],
   "source": [
    "np.unique(df1[\"SYNAPTOF\"])"
   ]
  },
  {
   "cell_type": "code",
   "execution_count": 32,
   "metadata": {},
   "outputs": [],
   "source": [
    "X = pd.concat([X,pd.get_dummies(df1['SYNAPTOF'], prefix='SYNAPTOF')],axis=1)"
   ]
  },
  {
   "cell_type": "code",
   "execution_count": 33,
   "metadata": {},
   "outputs": [
    {
     "data": {
      "text/plain": [
       "array(['Missing/NA', 'Negative', 'Not Done', 'Pos. < Liver',\n",
       "       'Pos. > Liver'], dtype=object)"
      ]
     },
     "execution_count": 33,
     "metadata": {},
     "output_type": "execute_result"
    }
   ],
   "source": [
    "np.unique(df1[\"OCTREO\"])"
   ]
  },
  {
   "cell_type": "code",
   "execution_count": 34,
   "metadata": {},
   "outputs": [],
   "source": [
    "X = pd.concat([X,pd.get_dummies(df1['OCTREO'], prefix='OCTREO')],axis=1)"
   ]
  },
  {
   "cell_type": "code",
   "execution_count": 35,
   "metadata": {},
   "outputs": [
    {
     "data": {
      "text/plain": [
       "array(['No', 'Yes'], dtype=object)"
      ]
     },
     "execution_count": 35,
     "metadata": {},
     "output_type": "execute_result"
    }
   ],
   "source": [
    "np.unique(df1[\"LIVER\"])"
   ]
  },
  {
   "cell_type": "code",
   "execution_count": 36,
   "metadata": {},
   "outputs": [],
   "source": [
    "X[\"SOM_LIVER\"]=np.where(df1[\"LIVER\"] == 'No', 0, 1)"
   ]
  },
  {
   "cell_type": "code",
   "execution_count": 37,
   "metadata": {},
   "outputs": [
    {
     "data": {
      "text/plain": [
       "array(['No', 'Yes'], dtype=object)"
      ]
     },
     "execution_count": 37,
     "metadata": {},
     "output_type": "execute_result"
    }
   ],
   "source": [
    "np.unique(df1[\"LYMPHNDS\"])"
   ]
  },
  {
   "cell_type": "code",
   "execution_count": 38,
   "metadata": {},
   "outputs": [],
   "source": [
    "X[\"SOM_LYMPHNDS\"]=np.where(df1[\"LYMPHNDS\"] == 'No', 0, 1)"
   ]
  },
  {
   "cell_type": "code",
   "execution_count": 39,
   "metadata": {},
   "outputs": [
    {
     "data": {
      "text/plain": [
       "array(['No', 'Yes'], dtype=object)"
      ]
     },
     "execution_count": 39,
     "metadata": {},
     "output_type": "execute_result"
    }
   ],
   "source": [
    "np.unique(df1[\"LUNG\"])"
   ]
  },
  {
   "cell_type": "code",
   "execution_count": 40,
   "metadata": {},
   "outputs": [],
   "source": [
    "X[\"SOM_LUNG\"]=np.where(df1[\"LUNG\"] == 'No', 0, 1)"
   ]
  },
  {
   "cell_type": "code",
   "execution_count": 41,
   "metadata": {},
   "outputs": [
    {
     "data": {
      "text/plain": [
       "array(['No', 'Yes'], dtype=object)"
      ]
     },
     "execution_count": 41,
     "metadata": {},
     "output_type": "execute_result"
    }
   ],
   "source": [
    "np.unique(df1[\"BONE\"])"
   ]
  },
  {
   "cell_type": "code",
   "execution_count": 42,
   "metadata": {},
   "outputs": [],
   "source": [
    "X[\"SOM_BONE\"]=np.where(df1[\"BONE\"] == 'No', 0, 1)\n",
    "X[\"SOM_OTHRORGM\"]=np.where(df1[\"OTHRORGM\"] == 'No', 0, 1)\n",
    "X[\"SOM_BRAIN\"]=np.where(df1[\"BRAIN\"] == 'No', 0, 1)"
   ]
  },
  {
   "cell_type": "code",
   "execution_count": 43,
   "metadata": {},
   "outputs": [
    {
     "data": {
      "text/plain": [
       "array(['WHO 0', 'WHO 1', 'WHO 2', 'WHO 3'], dtype=object)"
      ]
     },
     "execution_count": 43,
     "metadata": {},
     "output_type": "execute_result"
    }
   ],
   "source": [
    "np.unique(df1[\"PERFSTAT\"])"
   ]
  },
  {
   "cell_type": "code",
   "execution_count": 44,
   "metadata": {},
   "outputs": [],
   "source": [
    "X = pd.concat([X,pd.get_dummies(df1['PERFSTAT'], prefix='PERFSTAT')],axis=1)"
   ]
  },
  {
   "cell_type": "code",
   "execution_count": 45,
   "metadata": {},
   "outputs": [],
   "source": [
    "X = pd.concat([X,df1['BMI']],axis=1)\n",
    "# This feature also consists of one missing value, so we should impute this item"
   ]
  },
  {
   "cell_type": "code",
   "execution_count": 46,
   "metadata": {},
   "outputs": [
    {
     "data": {
      "text/plain": [
       "nan"
      ]
     },
     "execution_count": 46,
     "metadata": {},
     "output_type": "execute_result"
    }
   ],
   "source": [
    "X['BMI'][30]\n",
    "# Locating the missing item"
   ]
  },
  {
   "cell_type": "code",
   "execution_count": 47,
   "metadata": {},
   "outputs": [
    {
     "name": "stdout",
     "output_type": "stream",
     "text": [
      "The first imputation method estimates the missing item as 24.75.\n"
     ]
    }
   ],
   "source": [
    "imputer = KNNImputer(n_neighbors=4, weights=\"uniform\")\n",
    "print('The first imputation method estimates the missing item as {}.'.format(pd.DataFrame(imputer.fit_transform(X))[54][30]))"
   ]
  },
  {
   "cell_type": "code",
   "execution_count": 48,
   "metadata": {},
   "outputs": [
    {
     "name": "stdout",
     "output_type": "stream",
     "text": [
      "The second imputation method estimates the missing item as 25.0.\n"
     ]
    }
   ],
   "source": [
    "imp = IterativeImputer(max_iter=20, random_state=0)\n",
    "imp.fit(X)\n",
    "print('The second imputation method estimates the missing item as {}.'.format(pd.DataFrame(np.round(imp.transform(X)))[54][30]))"
   ]
  },
  {
   "cell_type": "code",
   "execution_count": 49,
   "metadata": {},
   "outputs": [
    {
     "name": "stdout",
     "output_type": "stream",
     "text": [
      "The third imputation method estimates the missing item as 24.0.\n"
     ]
    }
   ],
   "source": [
    "imp = SimpleImputer(missing_values=np.nan, strategy='median')\n",
    "imp.fit(X)\n",
    "print('The third imputation method estimates the missing item as {}.'.format(pd.DataFrame(imp.transform(X))[54][30]))"
   ]
  },
  {
   "cell_type": "code",
   "execution_count": 50,
   "metadata": {},
   "outputs": [
    {
     "name": "stderr",
     "output_type": "stream",
     "text": [
      "<ipython-input-50-947f08b8c656>:2: SettingWithCopyWarning: \n",
      "A value is trying to be set on a copy of a slice from a DataFrame\n",
      "\n",
      "See the caveats in the documentation: https://pandas.pydata.org/pandas-docs/stable/user_guide/indexing.html#returning-a-view-versus-a-copy\n",
      "  X['BMI'][30] = np.average(nan)\n"
     ]
    }
   ],
   "source": [
    "nan = [24.75, 25, 24]\n",
    "X['BMI'][30] = np.average(nan)"
   ]
  },
  {
   "cell_type": "markdown",
   "metadata": {},
   "source": [
    "The above result is mentioned in table 5.6 of thesis."
   ]
  },
  {
   "cell_type": "code",
   "execution_count": 51,
   "metadata": {},
   "outputs": [
    {
     "data": {
      "text/plain": [
       "array(['No', 'Yes'], dtype=object)"
      ]
     },
     "execution_count": 51,
     "metadata": {},
     "output_type": "execute_result"
    }
   ],
   "source": [
    "np.unique(df1[\"HORMSYMP\"])"
   ]
  },
  {
   "cell_type": "code",
   "execution_count": 52,
   "metadata": {},
   "outputs": [],
   "source": [
    "X[\"HORMSYMP\"]=np.where(df1[\"HORMSYMP\"] == 'No', 0, 1)"
   ]
  },
  {
   "cell_type": "code",
   "execution_count": 53,
   "metadata": {},
   "outputs": [
    {
     "data": {
      "text/plain": [
       "array(['No', 'Yes'], dtype=object)"
      ]
     },
     "execution_count": 53,
     "metadata": {},
     "output_type": "execute_result"
    }
   ],
   "source": [
    "np.unique(df1[\"CARSYNDR\"])"
   ]
  },
  {
   "cell_type": "code",
   "execution_count": 54,
   "metadata": {},
   "outputs": [],
   "source": [
    "X[\"CARSYNDR\"]=np.where(df1[\"CARSYNDR\"] == 'No', 0, 1)"
   ]
  },
  {
   "cell_type": "code",
   "execution_count": 55,
   "metadata": {},
   "outputs": [
    {
     "data": {
      "text/plain": [
       "(80, 57)"
      ]
     },
     "execution_count": 55,
     "metadata": {},
     "output_type": "execute_result"
    }
   ],
   "source": [
    "X.shape"
   ]
  },
  {
   "cell_type": "markdown",
   "metadata": {},
   "source": [
    "So finally our first block consists of 57 features and 80 samples, has been made. Lets take a look at the first 5 rows of it:"
   ]
  },
  {
   "cell_type": "code",
   "execution_count": 56,
   "metadata": {},
   "outputs": [
    {
     "data": {
      "text/html": [
       "<div>\n",
       "<style scoped>\n",
       "    .dataframe tbody tr th:only-of-type {\n",
       "        vertical-align: middle;\n",
       "    }\n",
       "\n",
       "    .dataframe tbody tr th {\n",
       "        vertical-align: top;\n",
       "    }\n",
       "\n",
       "    .dataframe thead th {\n",
       "        text-align: right;\n",
       "    }\n",
       "</style>\n",
       "<table border=\"1\" class=\"dataframe\">\n",
       "  <thead>\n",
       "    <tr style=\"text-align: right;\">\n",
       "      <th></th>\n",
       "      <th>Age</th>\n",
       "      <th>DATEMET - DATEDIAG</th>\n",
       "      <th>SEX</th>\n",
       "      <th>PRIMTUM_Colon</th>\n",
       "      <th>PRIMTUM_Esofagus</th>\n",
       "      <th>PRIMTUM_Gastric</th>\n",
       "      <th>PRIMTUM_Other</th>\n",
       "      <th>PRIMTUM_Pancreas</th>\n",
       "      <th>PRIMTUM_Rectum</th>\n",
       "      <th>PRIMTUM_Unknown</th>\n",
       "      <th>...</th>\n",
       "      <th>SOM_BONE</th>\n",
       "      <th>SOM_OTHRORGM</th>\n",
       "      <th>SOM_BRAIN</th>\n",
       "      <th>PERFSTAT_WHO 0</th>\n",
       "      <th>PERFSTAT_WHO 1</th>\n",
       "      <th>PERFSTAT_WHO 2</th>\n",
       "      <th>PERFSTAT_WHO 3</th>\n",
       "      <th>BMI</th>\n",
       "      <th>HORMSYMP</th>\n",
       "      <th>CARSYNDR</th>\n",
       "    </tr>\n",
       "  </thead>\n",
       "  <tbody>\n",
       "    <tr>\n",
       "      <th>0</th>\n",
       "      <td>79</td>\n",
       "      <td>0</td>\n",
       "      <td>0</td>\n",
       "      <td>0</td>\n",
       "      <td>0</td>\n",
       "      <td>1</td>\n",
       "      <td>0</td>\n",
       "      <td>0</td>\n",
       "      <td>0</td>\n",
       "      <td>0</td>\n",
       "      <td>...</td>\n",
       "      <td>1</td>\n",
       "      <td>0</td>\n",
       "      <td>0</td>\n",
       "      <td>0</td>\n",
       "      <td>1</td>\n",
       "      <td>0</td>\n",
       "      <td>0</td>\n",
       "      <td>30.0</td>\n",
       "      <td>0</td>\n",
       "      <td>0</td>\n",
       "    </tr>\n",
       "    <tr>\n",
       "      <th>1</th>\n",
       "      <td>81</td>\n",
       "      <td>0</td>\n",
       "      <td>1</td>\n",
       "      <td>0</td>\n",
       "      <td>0</td>\n",
       "      <td>0</td>\n",
       "      <td>1</td>\n",
       "      <td>0</td>\n",
       "      <td>0</td>\n",
       "      <td>0</td>\n",
       "      <td>...</td>\n",
       "      <td>1</td>\n",
       "      <td>0</td>\n",
       "      <td>0</td>\n",
       "      <td>0</td>\n",
       "      <td>1</td>\n",
       "      <td>0</td>\n",
       "      <td>0</td>\n",
       "      <td>32.0</td>\n",
       "      <td>0</td>\n",
       "      <td>0</td>\n",
       "    </tr>\n",
       "    <tr>\n",
       "      <th>2</th>\n",
       "      <td>68</td>\n",
       "      <td>0</td>\n",
       "      <td>0</td>\n",
       "      <td>1</td>\n",
       "      <td>0</td>\n",
       "      <td>0</td>\n",
       "      <td>0</td>\n",
       "      <td>0</td>\n",
       "      <td>0</td>\n",
       "      <td>0</td>\n",
       "      <td>...</td>\n",
       "      <td>0</td>\n",
       "      <td>0</td>\n",
       "      <td>0</td>\n",
       "      <td>1</td>\n",
       "      <td>0</td>\n",
       "      <td>0</td>\n",
       "      <td>0</td>\n",
       "      <td>24.0</td>\n",
       "      <td>0</td>\n",
       "      <td>0</td>\n",
       "    </tr>\n",
       "    <tr>\n",
       "      <th>3</th>\n",
       "      <td>84</td>\n",
       "      <td>33</td>\n",
       "      <td>1</td>\n",
       "      <td>0</td>\n",
       "      <td>0</td>\n",
       "      <td>0</td>\n",
       "      <td>1</td>\n",
       "      <td>0</td>\n",
       "      <td>0</td>\n",
       "      <td>0</td>\n",
       "      <td>...</td>\n",
       "      <td>0</td>\n",
       "      <td>1</td>\n",
       "      <td>0</td>\n",
       "      <td>1</td>\n",
       "      <td>0</td>\n",
       "      <td>0</td>\n",
       "      <td>0</td>\n",
       "      <td>24.0</td>\n",
       "      <td>0</td>\n",
       "      <td>0</td>\n",
       "    </tr>\n",
       "    <tr>\n",
       "      <th>4</th>\n",
       "      <td>54</td>\n",
       "      <td>0</td>\n",
       "      <td>0</td>\n",
       "      <td>0</td>\n",
       "      <td>0</td>\n",
       "      <td>0</td>\n",
       "      <td>0</td>\n",
       "      <td>1</td>\n",
       "      <td>0</td>\n",
       "      <td>0</td>\n",
       "      <td>...</td>\n",
       "      <td>1</td>\n",
       "      <td>0</td>\n",
       "      <td>0</td>\n",
       "      <td>0</td>\n",
       "      <td>1</td>\n",
       "      <td>0</td>\n",
       "      <td>0</td>\n",
       "      <td>23.0</td>\n",
       "      <td>0</td>\n",
       "      <td>0</td>\n",
       "    </tr>\n",
       "  </tbody>\n",
       "</table>\n",
       "<p>5 rows × 57 columns</p>\n",
       "</div>"
      ],
      "text/plain": [
       "   Age  DATEMET - DATEDIAG  SEX  PRIMTUM_Colon  PRIMTUM_Esofagus  \\\n",
       "0   79                   0    0              0                 0   \n",
       "1   81                   0    1              0                 0   \n",
       "2   68                   0    0              1                 0   \n",
       "3   84                  33    1              0                 0   \n",
       "4   54                   0    0              0                 0   \n",
       "\n",
       "   PRIMTUM_Gastric  PRIMTUM_Other  PRIMTUM_Pancreas  PRIMTUM_Rectum  \\\n",
       "0                1              0                 0               0   \n",
       "1                0              1                 0               0   \n",
       "2                0              0                 0               0   \n",
       "3                0              1                 0               0   \n",
       "4                0              0                 1               0   \n",
       "\n",
       "   PRIMTUM_Unknown  ...  SOM_BONE  SOM_OTHRORGM  SOM_BRAIN  PERFSTAT_WHO 0  \\\n",
       "0                0  ...         1             0          0               0   \n",
       "1                0  ...         1             0          0               0   \n",
       "2                0  ...         0             0          0               1   \n",
       "3                0  ...         0             1          0               1   \n",
       "4                0  ...         1             0          0               0   \n",
       "\n",
       "   PERFSTAT_WHO 1  PERFSTAT_WHO 2  PERFSTAT_WHO 3   BMI  HORMSYMP  CARSYNDR  \n",
       "0               1               0               0  30.0         0         0  \n",
       "1               1               0               0  32.0         0         0  \n",
       "2               0               0               0  24.0         0         0  \n",
       "3               0               0               0  24.0         0         0  \n",
       "4               1               0               0  23.0         0         0  \n",
       "\n",
       "[5 rows x 57 columns]"
      ]
     },
     "execution_count": 56,
     "metadata": {},
     "output_type": "execute_result"
    }
   ],
   "source": [
    "X.head()"
   ]
  },
  {
   "cell_type": "markdown",
   "metadata": {},
   "source": [
    "This dataframe is ready to be used in the machine learning algorithms. All the values are numerized.\n",
    "\n",
    "Referring to table 5.4 in the thesis."
   ]
  },
  {
   "cell_type": "markdown",
   "metadata": {},
   "source": [
    "## The second block"
   ]
  },
  {
   "cell_type": "code",
   "execution_count": 57,
   "metadata": {},
   "outputs": [],
   "source": [
    "df2 = pd.read_csv('NNTG_NEC-retrospective register_LIVE_enc_Form 2.csv',\n",
    "                 sep=';')"
   ]
  },
  {
   "cell_type": "code",
   "execution_count": 58,
   "metadata": {},
   "outputs": [
    {
     "data": {
      "text/plain": [
       "PATNO        0\n",
       "HIAA         0\n",
       "CGA2         1\n",
       "HMGLBN       0\n",
       "LACTDHDR     0\n",
       "PLATELTS     0\n",
       "WHITEBLD     0\n",
       "CRETININ     0\n",
       "ALKPHSPH     0\n",
       "CRP1        19\n",
       "CRP2         0\n",
       "TUMMARK1     0\n",
       "TUMMARK2     0\n",
       "TUMMARK3     0\n",
       "HORMON1      0\n",
       "HORMON2      0\n",
       "HORMON3      0\n",
       "HORMON4      0\n",
       "dtype: int64"
      ]
     },
     "execution_count": 58,
     "metadata": {},
     "output_type": "execute_result"
    }
   ],
   "source": [
    "df2.isnull().sum()"
   ]
  },
  {
   "cell_type": "code",
   "execution_count": 59,
   "metadata": {},
   "outputs": [
    {
     "data": {
      "text/html": [
       "<div>\n",
       "<style scoped>\n",
       "    .dataframe tbody tr th:only-of-type {\n",
       "        vertical-align: middle;\n",
       "    }\n",
       "\n",
       "    .dataframe tbody tr th {\n",
       "        vertical-align: top;\n",
       "    }\n",
       "\n",
       "    .dataframe thead th {\n",
       "        text-align: right;\n",
       "    }\n",
       "</style>\n",
       "<table border=\"1\" class=\"dataframe\">\n",
       "  <thead>\n",
       "    <tr style=\"text-align: right;\">\n",
       "      <th></th>\n",
       "      <th>PATNO</th>\n",
       "      <th>HIAA</th>\n",
       "      <th>CGA2</th>\n",
       "      <th>HMGLBN</th>\n",
       "      <th>LACTDHDR</th>\n",
       "      <th>PLATELTS</th>\n",
       "      <th>WHITEBLD</th>\n",
       "      <th>CRETININ</th>\n",
       "      <th>ALKPHSPH</th>\n",
       "      <th>CRP1</th>\n",
       "      <th>CRP2</th>\n",
       "      <th>TUMMARK1</th>\n",
       "      <th>TUMMARK2</th>\n",
       "      <th>TUMMARK3</th>\n",
       "      <th>HORMON1</th>\n",
       "      <th>HORMON2</th>\n",
       "      <th>HORMON3</th>\n",
       "      <th>HORMON4</th>\n",
       "    </tr>\n",
       "  </thead>\n",
       "  <tbody>\n",
       "    <tr>\n",
       "      <th>0</th>\n",
       "      <td>4001</td>\n",
       "      <td>Not Done</td>\n",
       "      <td>Not Done</td>\n",
       "      <td>Normal</td>\n",
       "      <td>&gt;Normal &lt;= 2UNL</td>\n",
       "      <td>Normal</td>\n",
       "      <td>&gt;10x10ˆ9/L</td>\n",
       "      <td>Normal</td>\n",
       "      <td>Not Done</td>\n",
       "      <td>NaN</td>\n",
       "      <td>True</td>\n",
       "      <td>Yes</td>\n",
       "      <td>Normal</td>\n",
       "      <td>Normal</td>\n",
       "      <td>No</td>\n",
       "      <td>Missing/NA</td>\n",
       "      <td>Missing/NA</td>\n",
       "      <td>Missing/NA</td>\n",
       "    </tr>\n",
       "    <tr>\n",
       "      <th>1</th>\n",
       "      <td>4003</td>\n",
       "      <td>Not Done</td>\n",
       "      <td>Not Done</td>\n",
       "      <td>&lt;11 g/dL</td>\n",
       "      <td>&gt; 2UNL</td>\n",
       "      <td>Normal</td>\n",
       "      <td>Normal</td>\n",
       "      <td>Normal</td>\n",
       "      <td>&gt;3 UNL</td>\n",
       "      <td>NaN</td>\n",
       "      <td>True</td>\n",
       "      <td>No</td>\n",
       "      <td>Missing/NA</td>\n",
       "      <td>Missing/NA</td>\n",
       "      <td>No</td>\n",
       "      <td>Missing/NA</td>\n",
       "      <td>Missing/NA</td>\n",
       "      <td>Missing/NA</td>\n",
       "    </tr>\n",
       "    <tr>\n",
       "      <th>2</th>\n",
       "      <td>4004</td>\n",
       "      <td>Not Done</td>\n",
       "      <td>Not Done</td>\n",
       "      <td>Normal</td>\n",
       "      <td>&gt; 2UNL</td>\n",
       "      <td>Normal</td>\n",
       "      <td>&gt;10x10ˆ9/L</td>\n",
       "      <td>Normal</td>\n",
       "      <td>&gt;3 UNL</td>\n",
       "      <td>NaN</td>\n",
       "      <td>True</td>\n",
       "      <td>Yes</td>\n",
       "      <td>Elevated</td>\n",
       "      <td>Missing/NA</td>\n",
       "      <td>No</td>\n",
       "      <td>Missing/NA</td>\n",
       "      <td>Missing/NA</td>\n",
       "      <td>Missing/NA</td>\n",
       "    </tr>\n",
       "    <tr>\n",
       "      <th>3</th>\n",
       "      <td>4005</td>\n",
       "      <td>Not Done</td>\n",
       "      <td>Not Done</td>\n",
       "      <td>Normal</td>\n",
       "      <td>Normal</td>\n",
       "      <td>&gt;400x10ˆ9/L</td>\n",
       "      <td>&gt;10x10ˆ9/L</td>\n",
       "      <td>Normal</td>\n",
       "      <td>Normal</td>\n",
       "      <td>NaN</td>\n",
       "      <td>True</td>\n",
       "      <td>Yes</td>\n",
       "      <td>Normal</td>\n",
       "      <td>Missing/NA</td>\n",
       "      <td>No</td>\n",
       "      <td>Missing/NA</td>\n",
       "      <td>Missing/NA</td>\n",
       "      <td>Missing/NA</td>\n",
       "    </tr>\n",
       "    <tr>\n",
       "      <th>4</th>\n",
       "      <td>4006</td>\n",
       "      <td>Normal</td>\n",
       "      <td>Not Done</td>\n",
       "      <td>Normal</td>\n",
       "      <td>Normal</td>\n",
       "      <td>Normal</td>\n",
       "      <td>Normal</td>\n",
       "      <td>Normal</td>\n",
       "      <td>Normal</td>\n",
       "      <td>27.0</td>\n",
       "      <td>False</td>\n",
       "      <td>Yes</td>\n",
       "      <td>Normal</td>\n",
       "      <td>Missing/NA</td>\n",
       "      <td>No</td>\n",
       "      <td>Missing/NA</td>\n",
       "      <td>Missing/NA</td>\n",
       "      <td>Missing/NA</td>\n",
       "    </tr>\n",
       "  </tbody>\n",
       "</table>\n",
       "</div>"
      ],
      "text/plain": [
       "   PATNO      HIAA      CGA2    HMGLBN         LACTDHDR     PLATELTS  \\\n",
       "0   4001  Not Done  Not Done    Normal  >Normal <= 2UNL       Normal   \n",
       "1   4003  Not Done  Not Done  <11 g/dL           > 2UNL       Normal   \n",
       "2   4004  Not Done  Not Done    Normal           > 2UNL       Normal   \n",
       "3   4005  Not Done  Not Done    Normal           Normal  >400x10ˆ9/L   \n",
       "4   4006    Normal  Not Done    Normal           Normal       Normal   \n",
       "\n",
       "     WHITEBLD CRETININ  ALKPHSPH  CRP1   CRP2 TUMMARK1    TUMMARK2  \\\n",
       "0  >10x10ˆ9/L   Normal  Not Done   NaN   True      Yes      Normal   \n",
       "1      Normal   Normal    >3 UNL   NaN   True       No  Missing/NA   \n",
       "2  >10x10ˆ9/L   Normal    >3 UNL   NaN   True      Yes    Elevated   \n",
       "3  >10x10ˆ9/L   Normal    Normal   NaN   True      Yes      Normal   \n",
       "4      Normal   Normal    Normal  27.0  False      Yes      Normal   \n",
       "\n",
       "     TUMMARK3 HORMON1     HORMON2     HORMON3     HORMON4  \n",
       "0      Normal      No  Missing/NA  Missing/NA  Missing/NA  \n",
       "1  Missing/NA      No  Missing/NA  Missing/NA  Missing/NA  \n",
       "2  Missing/NA      No  Missing/NA  Missing/NA  Missing/NA  \n",
       "3  Missing/NA      No  Missing/NA  Missing/NA  Missing/NA  \n",
       "4  Missing/NA      No  Missing/NA  Missing/NA  Missing/NA  "
      ]
     },
     "execution_count": 59,
     "metadata": {},
     "output_type": "execute_result"
    }
   ],
   "source": [
    "df2.head()"
   ]
  },
  {
   "cell_type": "markdown",
   "metadata": {},
   "source": [
    "Same as previous block, first we check how many levels every nominal feature consists. If it consists of 2 levels, we simple binarize it and if there were more levels we will do the dummification."
   ]
  },
  {
   "cell_type": "code",
   "execution_count": 60,
   "metadata": {},
   "outputs": [
    {
     "data": {
      "text/plain": [
       "array(['> 2UNL', '>Normal <= 2UNL', 'Normal', 'Not Done'], dtype=object)"
      ]
     },
     "execution_count": 60,
     "metadata": {},
     "output_type": "execute_result"
    }
   ],
   "source": [
    "np.unique(df2[\"HIAA\"])"
   ]
  },
  {
   "cell_type": "code",
   "execution_count": 61,
   "metadata": {},
   "outputs": [],
   "source": [
    "X2 =(pd.get_dummies(df2[\"HIAA\"], prefix='HIAA'))"
   ]
  },
  {
   "cell_type": "code",
   "execution_count": 62,
   "metadata": {},
   "outputs": [
    {
     "data": {
      "text/plain": [
       "array(['<11 g/dL', 'Normal', 'Not Done'], dtype=object)"
      ]
     },
     "execution_count": 62,
     "metadata": {},
     "output_type": "execute_result"
    }
   ],
   "source": [
    "np.unique(df2[\"HMGLBN\"])"
   ]
  },
  {
   "cell_type": "code",
   "execution_count": 63,
   "metadata": {},
   "outputs": [],
   "source": [
    "X2 = pd.concat([X2,pd.get_dummies(df2[\"HMGLBN\"], prefix='HMGLBN')],axis=1)"
   ]
  },
  {
   "cell_type": "code",
   "execution_count": 64,
   "metadata": {},
   "outputs": [
    {
     "data": {
      "text/plain": [
       "array(['> 2UNL', '>Normal <= 2UNL', 'Normal', 'Not Done'], dtype=object)"
      ]
     },
     "execution_count": 64,
     "metadata": {},
     "output_type": "execute_result"
    }
   ],
   "source": [
    "np.unique(df2[\"LACTDHDR\"])"
   ]
  },
  {
   "cell_type": "code",
   "execution_count": 65,
   "metadata": {},
   "outputs": [],
   "source": [
    "X2 = pd.concat([X2,pd.get_dummies(df2[\"LACTDHDR\"], prefix='LACTDHDR')],axis=1)"
   ]
  },
  {
   "cell_type": "code",
   "execution_count": 66,
   "metadata": {},
   "outputs": [
    {
     "data": {
      "text/plain": [
       "array(['>400x10ˆ9/L', 'Normal', 'Not Done'], dtype=object)"
      ]
     },
     "execution_count": 66,
     "metadata": {},
     "output_type": "execute_result"
    }
   ],
   "source": [
    "np.unique(df2[\"PLATELTS\"])"
   ]
  },
  {
   "cell_type": "code",
   "execution_count": 67,
   "metadata": {},
   "outputs": [],
   "source": [
    "X2 = pd.concat([X2,pd.get_dummies(df2[\"PLATELTS\"], prefix='PLATELTS')],axis=1)"
   ]
  },
  {
   "cell_type": "code",
   "execution_count": 68,
   "metadata": {},
   "outputs": [
    {
     "data": {
      "text/plain": [
       "array(['>10x10ˆ9/L', 'Normal', 'Not Done'], dtype=object)"
      ]
     },
     "execution_count": 68,
     "metadata": {},
     "output_type": "execute_result"
    }
   ],
   "source": [
    "np.unique(df2[\"WHITEBLD\"])"
   ]
  },
  {
   "cell_type": "code",
   "execution_count": 69,
   "metadata": {},
   "outputs": [],
   "source": [
    "X2 = pd.concat([X2,pd.get_dummies(df2[\"WHITEBLD\"], prefix='WHITEBLD')],axis=1)"
   ]
  },
  {
   "cell_type": "code",
   "execution_count": 70,
   "metadata": {},
   "outputs": [
    {
     "data": {
      "text/plain": [
       "array(['> Normal', 'Normal'], dtype=object)"
      ]
     },
     "execution_count": 70,
     "metadata": {},
     "output_type": "execute_result"
    }
   ],
   "source": [
    "np.unique(df2[\"CRETININ\"])"
   ]
  },
  {
   "cell_type": "code",
   "execution_count": 71,
   "metadata": {},
   "outputs": [],
   "source": [
    "X2[\"CRETININ\"]=np.where(df2[\"CRETININ\"] == '> Normal', 0, 1)"
   ]
  },
  {
   "cell_type": "code",
   "execution_count": 72,
   "metadata": {},
   "outputs": [
    {
     "data": {
      "text/plain": [
       "array(['>3 UNL', '>Normal <= 3 UNL', 'Normal', 'Not Done'], dtype=object)"
      ]
     },
     "execution_count": 72,
     "metadata": {},
     "output_type": "execute_result"
    }
   ],
   "source": [
    "np.unique(df2[\"ALKPHSPH\"])"
   ]
  },
  {
   "cell_type": "code",
   "execution_count": 73,
   "metadata": {},
   "outputs": [],
   "source": [
    "X2 = pd.concat([X2,pd.get_dummies(df2[\"ALKPHSPH\"], prefix='ALKPHSPH')],axis=1)"
   ]
  },
  {
   "cell_type": "code",
   "execution_count": 74,
   "metadata": {},
   "outputs": [
    {
     "data": {
      "text/plain": [
       "array(['No', 'Yes'], dtype=object)"
      ]
     },
     "execution_count": 74,
     "metadata": {},
     "output_type": "execute_result"
    }
   ],
   "source": [
    "np.unique(df2[\"TUMMARK1\"]) # two levels"
   ]
  },
  {
   "cell_type": "code",
   "execution_count": 75,
   "metadata": {},
   "outputs": [],
   "source": [
    "X2[\"TUMMARK1\"]=np.where(df2[\"TUMMARK1\"] == 'No', 0, 1)"
   ]
  },
  {
   "cell_type": "code",
   "execution_count": 76,
   "metadata": {},
   "outputs": [],
   "source": [
    "X2 =pd.concat([X2,pd.get_dummies(df2[\"CGA2\"], prefix='CGA2')],axis=1) # this feature consists of one missing value"
   ]
  },
  {
   "cell_type": "markdown",
   "metadata": {},
   "source": [
    "So we will impute this item by unifrom method."
   ]
  },
  {
   "cell_type": "code",
   "execution_count": 77,
   "metadata": {},
   "outputs": [],
   "source": [
    "X2.loc[df2.CGA2.isnull(), X2.columns.str.startswith(\"CGA2_\")] = np.nan #retaining the Nan value of the CAG2"
   ]
  },
  {
   "cell_type": "code",
   "execution_count": 78,
   "metadata": {},
   "outputs": [
    {
     "data": {
      "text/plain": [
       "HIAA_> 2UNL                  0.0\n",
       "HIAA_>Normal <= 2UNL         0.0\n",
       "HIAA_Normal                  0.0\n",
       "HIAA_Not Done                1.0\n",
       "HMGLBN_<11 g/dL              0.0\n",
       "HMGLBN_Normal                1.0\n",
       "HMGLBN_Not Done              0.0\n",
       "LACTDHDR_> 2UNL              1.0\n",
       "LACTDHDR_>Normal <= 2UNL     0.0\n",
       "LACTDHDR_Normal              0.0\n",
       "LACTDHDR_Not Done            0.0\n",
       "PLATELTS_>400x10ˆ9/L         1.0\n",
       "PLATELTS_Normal              0.0\n",
       "PLATELTS_Not Done            0.0\n",
       "WHITEBLD_>10x10ˆ9/L          1.0\n",
       "WHITEBLD_Normal              0.0\n",
       "WHITEBLD_Not Done            0.0\n",
       "CRETININ                     1.0\n",
       "ALKPHSPH_>3 UNL              0.0\n",
       "ALKPHSPH_>Normal <= 3 UNL    0.0\n",
       "ALKPHSPH_Normal              1.0\n",
       "ALKPHSPH_Not Done            0.0\n",
       "TUMMARK1                     0.0\n",
       "CGA2_> 2UNL                  NaN\n",
       "CGA2_>Normal <= 2UNL         NaN\n",
       "CGA2_Normal                  NaN\n",
       "CGA2_Not Done                NaN\n",
       "Name: 55, dtype: float64"
      ]
     },
     "execution_count": 78,
     "metadata": {},
     "output_type": "execute_result"
    }
   ],
   "source": [
    "X2.loc[55]\n",
    "# Locating the missing item"
   ]
  },
  {
   "cell_type": "code",
   "execution_count": 79,
   "metadata": {},
   "outputs": [
    {
     "name": "stdout",
     "output_type": "stream",
     "text": [
      "The first imputation method estimates the missing item as:.\n",
      "0     0.0\n",
      "1     0.0\n",
      "2     0.0\n",
      "3     1.0\n",
      "4     0.0\n",
      "5     1.0\n",
      "6     0.0\n",
      "7     1.0\n",
      "8     0.0\n",
      "9     0.0\n",
      "10    0.0\n",
      "11    1.0\n",
      "12    0.0\n",
      "13    0.0\n",
      "14    1.0\n",
      "15    0.0\n",
      "16    0.0\n",
      "17    1.0\n",
      "18    0.0\n",
      "19    0.0\n",
      "20    1.0\n",
      "21    0.0\n",
      "22    0.0\n",
      "23    0.0\n",
      "24    0.0\n",
      "25    0.0\n",
      "26    1.0\n",
      "Name: 55, dtype: float64\n",
      "which is equal to CAG2 Not Done since the row 26 in the above vector is estimated as 1\n"
     ]
    }
   ],
   "source": [
    "imputer = KNNImputer(n_neighbors=4, weights=\"uniform\")\n",
    "print('The first imputation method estimates the missing item as:.')\n",
    "print(pd.DataFrame(imputer.fit_transform(X2)).loc[55])\n",
    "print('which is equal to CAG2 Not Done since the row 26 in the above vector is estimated as 1')"
   ]
  },
  {
   "cell_type": "code",
   "execution_count": 80,
   "metadata": {},
   "outputs": [
    {
     "name": "stderr",
     "output_type": "stream",
     "text": [
      "<ipython-input-80-bc082c907705>:1: SettingWithCopyWarning: \n",
      "A value is trying to be set on a copy of a slice from a DataFrame\n",
      "\n",
      "See the caveats in the documentation: https://pandas.pydata.org/pandas-docs/stable/user_guide/indexing.html#returning-a-view-versus-a-copy\n",
      "  X2['CGA2_> 2UNL'][55] = 0\n",
      "<ipython-input-80-bc082c907705>:2: SettingWithCopyWarning: \n",
      "A value is trying to be set on a copy of a slice from a DataFrame\n",
      "\n",
      "See the caveats in the documentation: https://pandas.pydata.org/pandas-docs/stable/user_guide/indexing.html#returning-a-view-versus-a-copy\n",
      "  X2['CGA2_>Normal <= 2UNL'][55] = 0\n",
      "<ipython-input-80-bc082c907705>:3: SettingWithCopyWarning: \n",
      "A value is trying to be set on a copy of a slice from a DataFrame\n",
      "\n",
      "See the caveats in the documentation: https://pandas.pydata.org/pandas-docs/stable/user_guide/indexing.html#returning-a-view-versus-a-copy\n",
      "  X2['CGA2_Normal'][55] = 0\n",
      "<ipython-input-80-bc082c907705>:4: SettingWithCopyWarning: \n",
      "A value is trying to be set on a copy of a slice from a DataFrame\n",
      "\n",
      "See the caveats in the documentation: https://pandas.pydata.org/pandas-docs/stable/user_guide/indexing.html#returning-a-view-versus-a-copy\n",
      "  X2['CGA2_Not Done'][55] = 1\n"
     ]
    }
   ],
   "source": [
    "X2['CGA2_> 2UNL'][55] = 0\n",
    "X2['CGA2_>Normal <= 2UNL'][55] = 0\n",
    "X2['CGA2_Normal'][55] = 0\n",
    "X2['CGA2_Not Done'][55] = 1"
   ]
  },
  {
   "cell_type": "code",
   "execution_count": 81,
   "metadata": {},
   "outputs": [
    {
     "data": {
      "text/plain": [
       "(80, 27)"
      ]
     },
     "execution_count": 81,
     "metadata": {},
     "output_type": "execute_result"
    }
   ],
   "source": [
    "X2.shape"
   ]
  },
  {
   "cell_type": "markdown",
   "metadata": {},
   "source": [
    "So finally our second block consists of 27 features and 80 samples, has been made. Lets take a look at the first 5 rows of it:"
   ]
  },
  {
   "cell_type": "code",
   "execution_count": 82,
   "metadata": {
    "scrolled": true
   },
   "outputs": [
    {
     "data": {
      "text/html": [
       "<div>\n",
       "<style scoped>\n",
       "    .dataframe tbody tr th:only-of-type {\n",
       "        vertical-align: middle;\n",
       "    }\n",
       "\n",
       "    .dataframe tbody tr th {\n",
       "        vertical-align: top;\n",
       "    }\n",
       "\n",
       "    .dataframe thead th {\n",
       "        text-align: right;\n",
       "    }\n",
       "</style>\n",
       "<table border=\"1\" class=\"dataframe\">\n",
       "  <thead>\n",
       "    <tr style=\"text-align: right;\">\n",
       "      <th></th>\n",
       "      <th>HIAA_&gt; 2UNL</th>\n",
       "      <th>HIAA_&gt;Normal &lt;= 2UNL</th>\n",
       "      <th>HIAA_Normal</th>\n",
       "      <th>HIAA_Not Done</th>\n",
       "      <th>HMGLBN_&lt;11 g/dL</th>\n",
       "      <th>HMGLBN_Normal</th>\n",
       "      <th>HMGLBN_Not Done</th>\n",
       "      <th>LACTDHDR_&gt; 2UNL</th>\n",
       "      <th>LACTDHDR_&gt;Normal &lt;= 2UNL</th>\n",
       "      <th>LACTDHDR_Normal</th>\n",
       "      <th>...</th>\n",
       "      <th>CRETININ</th>\n",
       "      <th>ALKPHSPH_&gt;3 UNL</th>\n",
       "      <th>ALKPHSPH_&gt;Normal &lt;= 3 UNL</th>\n",
       "      <th>ALKPHSPH_Normal</th>\n",
       "      <th>ALKPHSPH_Not Done</th>\n",
       "      <th>TUMMARK1</th>\n",
       "      <th>CGA2_&gt; 2UNL</th>\n",
       "      <th>CGA2_&gt;Normal &lt;= 2UNL</th>\n",
       "      <th>CGA2_Normal</th>\n",
       "      <th>CGA2_Not Done</th>\n",
       "    </tr>\n",
       "  </thead>\n",
       "  <tbody>\n",
       "    <tr>\n",
       "      <th>0</th>\n",
       "      <td>0</td>\n",
       "      <td>0</td>\n",
       "      <td>0</td>\n",
       "      <td>1</td>\n",
       "      <td>0</td>\n",
       "      <td>1</td>\n",
       "      <td>0</td>\n",
       "      <td>0</td>\n",
       "      <td>1</td>\n",
       "      <td>0</td>\n",
       "      <td>...</td>\n",
       "      <td>1</td>\n",
       "      <td>0</td>\n",
       "      <td>0</td>\n",
       "      <td>0</td>\n",
       "      <td>1</td>\n",
       "      <td>1</td>\n",
       "      <td>0.0</td>\n",
       "      <td>0.0</td>\n",
       "      <td>0.0</td>\n",
       "      <td>1.0</td>\n",
       "    </tr>\n",
       "    <tr>\n",
       "      <th>1</th>\n",
       "      <td>0</td>\n",
       "      <td>0</td>\n",
       "      <td>0</td>\n",
       "      <td>1</td>\n",
       "      <td>1</td>\n",
       "      <td>0</td>\n",
       "      <td>0</td>\n",
       "      <td>1</td>\n",
       "      <td>0</td>\n",
       "      <td>0</td>\n",
       "      <td>...</td>\n",
       "      <td>1</td>\n",
       "      <td>1</td>\n",
       "      <td>0</td>\n",
       "      <td>0</td>\n",
       "      <td>0</td>\n",
       "      <td>0</td>\n",
       "      <td>0.0</td>\n",
       "      <td>0.0</td>\n",
       "      <td>0.0</td>\n",
       "      <td>1.0</td>\n",
       "    </tr>\n",
       "    <tr>\n",
       "      <th>2</th>\n",
       "      <td>0</td>\n",
       "      <td>0</td>\n",
       "      <td>0</td>\n",
       "      <td>1</td>\n",
       "      <td>0</td>\n",
       "      <td>1</td>\n",
       "      <td>0</td>\n",
       "      <td>1</td>\n",
       "      <td>0</td>\n",
       "      <td>0</td>\n",
       "      <td>...</td>\n",
       "      <td>1</td>\n",
       "      <td>1</td>\n",
       "      <td>0</td>\n",
       "      <td>0</td>\n",
       "      <td>0</td>\n",
       "      <td>1</td>\n",
       "      <td>0.0</td>\n",
       "      <td>0.0</td>\n",
       "      <td>0.0</td>\n",
       "      <td>1.0</td>\n",
       "    </tr>\n",
       "    <tr>\n",
       "      <th>3</th>\n",
       "      <td>0</td>\n",
       "      <td>0</td>\n",
       "      <td>0</td>\n",
       "      <td>1</td>\n",
       "      <td>0</td>\n",
       "      <td>1</td>\n",
       "      <td>0</td>\n",
       "      <td>0</td>\n",
       "      <td>0</td>\n",
       "      <td>1</td>\n",
       "      <td>...</td>\n",
       "      <td>1</td>\n",
       "      <td>0</td>\n",
       "      <td>0</td>\n",
       "      <td>1</td>\n",
       "      <td>0</td>\n",
       "      <td>1</td>\n",
       "      <td>0.0</td>\n",
       "      <td>0.0</td>\n",
       "      <td>0.0</td>\n",
       "      <td>1.0</td>\n",
       "    </tr>\n",
       "    <tr>\n",
       "      <th>4</th>\n",
       "      <td>0</td>\n",
       "      <td>0</td>\n",
       "      <td>1</td>\n",
       "      <td>0</td>\n",
       "      <td>0</td>\n",
       "      <td>1</td>\n",
       "      <td>0</td>\n",
       "      <td>0</td>\n",
       "      <td>0</td>\n",
       "      <td>1</td>\n",
       "      <td>...</td>\n",
       "      <td>1</td>\n",
       "      <td>0</td>\n",
       "      <td>0</td>\n",
       "      <td>1</td>\n",
       "      <td>0</td>\n",
       "      <td>1</td>\n",
       "      <td>0.0</td>\n",
       "      <td>0.0</td>\n",
       "      <td>0.0</td>\n",
       "      <td>1.0</td>\n",
       "    </tr>\n",
       "  </tbody>\n",
       "</table>\n",
       "<p>5 rows × 27 columns</p>\n",
       "</div>"
      ],
      "text/plain": [
       "   HIAA_> 2UNL  HIAA_>Normal <= 2UNL  HIAA_Normal  HIAA_Not Done  \\\n",
       "0            0                     0            0              1   \n",
       "1            0                     0            0              1   \n",
       "2            0                     0            0              1   \n",
       "3            0                     0            0              1   \n",
       "4            0                     0            1              0   \n",
       "\n",
       "   HMGLBN_<11 g/dL  HMGLBN_Normal  HMGLBN_Not Done  LACTDHDR_> 2UNL  \\\n",
       "0                0              1                0                0   \n",
       "1                1              0                0                1   \n",
       "2                0              1                0                1   \n",
       "3                0              1                0                0   \n",
       "4                0              1                0                0   \n",
       "\n",
       "   LACTDHDR_>Normal <= 2UNL  LACTDHDR_Normal  ...  CRETININ  ALKPHSPH_>3 UNL  \\\n",
       "0                         1                0  ...         1                0   \n",
       "1                         0                0  ...         1                1   \n",
       "2                         0                0  ...         1                1   \n",
       "3                         0                1  ...         1                0   \n",
       "4                         0                1  ...         1                0   \n",
       "\n",
       "   ALKPHSPH_>Normal <= 3 UNL  ALKPHSPH_Normal  ALKPHSPH_Not Done  TUMMARK1  \\\n",
       "0                          0                0                  1         1   \n",
       "1                          0                0                  0         0   \n",
       "2                          0                0                  0         1   \n",
       "3                          0                1                  0         1   \n",
       "4                          0                1                  0         1   \n",
       "\n",
       "   CGA2_> 2UNL  CGA2_>Normal <= 2UNL  CGA2_Normal  CGA2_Not Done  \n",
       "0          0.0                   0.0          0.0            1.0  \n",
       "1          0.0                   0.0          0.0            1.0  \n",
       "2          0.0                   0.0          0.0            1.0  \n",
       "3          0.0                   0.0          0.0            1.0  \n",
       "4          0.0                   0.0          0.0            1.0  \n",
       "\n",
       "[5 rows x 27 columns]"
      ]
     },
     "execution_count": 82,
     "metadata": {},
     "output_type": "execute_result"
    }
   ],
   "source": [
    "X2.head()"
   ]
  },
  {
   "cell_type": "markdown",
   "metadata": {},
   "source": [
    "Referring to table 5.5 in the thesis."
   ]
  },
  {
   "cell_type": "markdown",
   "metadata": {},
   "source": [
    "## Defining the target"
   ]
  },
  {
   "cell_type": "code",
   "execution_count": 83,
   "metadata": {},
   "outputs": [],
   "source": [
    "df4 = pd.read_csv('NNTG_NEC-retrospective register_LIVE_enc_Form 4.csv',\n",
    "                 sep=',')"
   ]
  },
  {
   "cell_type": "code",
   "execution_count": 84,
   "metadata": {},
   "outputs": [],
   "source": [
    "df1['DATEDIAG'] = pd.to_datetime(df1['DATEDIAG'])\n",
    "df4['DATELOBS'] = pd.to_datetime(df4['DATELOBS'])"
   ]
  },
  {
   "cell_type": "code",
   "execution_count": 85,
   "metadata": {},
   "outputs": [],
   "source": [
    "y = (df4['DATELOBS'] - df1['DATEDIAG']).apply(lambda x: x.days)"
   ]
  },
  {
   "cell_type": "markdown",
   "metadata": {},
   "source": [
    "So our target would be the number of days between diagnosis of cancer and the last observation of the patients."
   ]
  }
 ],
 "metadata": {
  "kernelspec": {
   "display_name": "Python 3",
   "language": "python",
   "name": "python3"
  },
  "language_info": {
   "codemirror_mode": {
    "name": "ipython",
    "version": 3
   },
   "file_extension": ".py",
   "mimetype": "text/x-python",
   "name": "python",
   "nbconvert_exporter": "python",
   "pygments_lexer": "ipython3",
   "version": "3.8.3"
  }
 },
 "nbformat": 4,
 "nbformat_minor": 4
}
