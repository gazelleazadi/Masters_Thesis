{
 "cells": [
  {
   "cell_type": "code",
   "execution_count": 1,
   "metadata": {},
   "outputs": [],
   "source": [
    "#pip install import-ipynb"
   ]
  },
  {
   "cell_type": "code",
   "execution_count": 8,
   "metadata": {},
   "outputs": [],
   "source": [
    "import import_ipynb\n",
    "if __name__ == \"__main__\":\n",
    "    from Data_preprocessing import *"
   ]
  },
  {
   "cell_type": "code",
   "execution_count": 3,
   "metadata": {},
   "outputs": [],
   "source": [
    "pd.set_option('display.max_rows', None)\n",
    "pd.set_option('display.max_columns', None)\n",
    "pd.set_option('display.width', None)\n",
    "pd.set_option('display.max_colwidth', None)\n",
    "\n",
    "from RENT2 import RENT, stability\n",
    "import warnings\n",
    "warnings.filterwarnings(\"ignore\")\n",
    "\n",
    "from sklearn.model_selection import RepeatedKFold\n",
    "\n",
    "import numpy as np\n",
    "from sklearn.metrics import r2_score, mean_squared_error\n",
    "from sklearn.preprocessing import StandardScaler\n",
    "from sklearn.linear_model import LinearRegression\n",
    "import seaborn as sns"
   ]
  },
  {
   "cell_type": "markdown",
   "metadata": {},
   "source": [
    "# Feature selection based on the first approach"
   ]
  },
  {
   "cell_type": "markdown",
   "metadata": {},
   "source": [
    "Referring to the thesis, chapter 5.2.2, RENT selects features based on this approach and the results are mentioned in this file."
   ]
  },
  {
   "cell_type": "markdown",
   "metadata": {},
   "source": [
    "## First block"
   ]
  },
  {
   "cell_type": "markdown",
   "metadata": {},
   "source": [
    "### Repeated 4 fold cross-validation"
   ]
  },
  {
   "cell_type": "code",
   "execution_count": 4,
   "metadata": {},
   "outputs": [
    {
     "data": {
      "text/plain": [
       "8"
      ]
     },
     "execution_count": 4,
     "metadata": {},
     "output_type": "execute_result"
    }
   ],
   "source": [
    "rkf = RepeatedKFold(n_splits=4, n_repeats=2, random_state=10)\n",
    "rkf.get_n_splits(X, y)"
   ]
  },
  {
   "cell_type": "markdown",
   "metadata": {},
   "source": [
    "### RENT feature selection"
   ]
  },
  {
   "cell_type": "code",
   "execution_count": 5,
   "metadata": {},
   "outputs": [
    {
     "name": "stdout",
     "output_type": "stream",
     "text": [
      "data dimension: (60, 57)  data type: <class 'pandas.core.frame.DataFrame'>\n",
      "target dimension: (60,)\n",
      "regularization parameters C: [0.1, 0.3, 0.5, 0.7, 1, 10]\n",
      "elastic net l1_ratios: [0, 0.5, 1]\n",
      "poly: OFF\n",
      "number of models in ensemble: 700\n",
      "random state: 0\n",
      "verbose: 1\n",
      "SELECTED FAETURES ARE : Index(['Age', 'OCTREO_Negative'], dtype='object')\n",
      "R2:  -0.3266168540552161\n",
      "RMSEP:  1158.912170874312\n",
      "data dimension: (60, 57)  data type: <class 'pandas.core.frame.DataFrame'>\n",
      "target dimension: (60,)\n",
      "regularization parameters C: [0.1, 0.3, 0.5, 0.7, 1, 10]\n",
      "elastic net l1_ratios: [0, 0.5, 1]\n",
      "poly: OFF\n",
      "number of models in ensemble: 700\n",
      "random state: 0\n",
      "verbose: 1\n",
      "SELECTED FAETURES ARE : Index(['CGA1_Negative', 'SOM_LUNG'], dtype='object')\n",
      "R2:  0.03872478152259373\n",
      "RMSEP:  901.3563629740604\n",
      "data dimension: (60, 57)  data type: <class 'pandas.core.frame.DataFrame'>\n",
      "target dimension: (60,)\n",
      "regularization parameters C: [0.1, 0.3, 0.5, 0.7, 1, 10]\n",
      "elastic net l1_ratios: [0, 0.5, 1]\n",
      "poly: OFF\n",
      "number of models in ensemble: 700\n",
      "random state: 0\n",
      "verbose: 1\n",
      "SELECTED FAETURES ARE : Index(['CGA1_Negative', 'OCTREO_Negative'], dtype='object')\n",
      "R2:  -0.2745691889282105\n",
      "RMSEP:  1113.3715500582264\n",
      "data dimension: (60, 57)  data type: <class 'pandas.core.frame.DataFrame'>\n",
      "target dimension: (60,)\n",
      "regularization parameters C: [0.1, 0.3, 0.5, 0.7, 1, 10]\n",
      "elastic net l1_ratios: [0, 0.5, 1]\n",
      "poly: OFF\n",
      "number of models in ensemble: 700\n",
      "random state: 0\n",
      "verbose: 1\n",
      "SELECTED FAETURES ARE : Index(['SURGMET'], dtype='object')\n",
      "R2:  0.2737054009936437\n",
      "RMSEP:  387.763803278889\n",
      "data dimension: (60, 57)  data type: <class 'pandas.core.frame.DataFrame'>\n",
      "target dimension: (60,)\n",
      "regularization parameters C: [0.1, 0.3, 0.5, 0.7, 1, 10]\n",
      "elastic net l1_ratios: [0, 0.5, 1]\n",
      "poly: OFF\n",
      "number of models in ensemble: 700\n",
      "random state: 0\n",
      "verbose: 1\n",
      "SELECTED FAETURES ARE : Index(['Age', 'SEX', 'PRIMTUM_Colon', 'SURGMET', 'KI67', 'SYNAPTOF_Negative'], dtype='object')\n",
      "R2:  -2.966012642139831\n",
      "RMSEP:  868.0109239834474\n",
      "data dimension: (60, 57)  data type: <class 'pandas.core.frame.DataFrame'>\n",
      "target dimension: (60,)\n",
      "regularization parameters C: [0.1, 0.3, 0.5, 0.7, 1, 10]\n",
      "elastic net l1_ratios: [0, 0.5, 1]\n",
      "poly: OFF\n",
      "number of models in ensemble: 700\n",
      "random state: 0\n",
      "verbose: 1\n",
      "SELECTED FAETURES ARE : Index(['Age', 'SEX', 'OCTREO_Negative'], dtype='object')\n",
      "R2:  -0.1254187904609163\n",
      "RMSEP:  1303.2230538884664\n",
      "data dimension: (60, 57)  data type: <class 'pandas.core.frame.DataFrame'>\n",
      "target dimension: (60,)\n",
      "regularization parameters C: [0.1, 0.3, 0.5, 0.7, 1, 10]\n",
      "elastic net l1_ratios: [0, 0.5, 1]\n",
      "poly: OFF\n",
      "number of models in ensemble: 700\n",
      "random state: 0\n",
      "verbose: 1\n",
      "SELECTED FAETURES ARE : Index(['PROTHRCA_No'], dtype='object')\n",
      "R2:  0.05589367283123314\n",
      "RMSEP:  684.3750946205116\n",
      "data dimension: (60, 57)  data type: <class 'pandas.core.frame.DataFrame'>\n",
      "target dimension: (60,)\n",
      "regularization parameters C: [0.1, 0.3, 0.5, 0.7, 1, 10]\n",
      "elastic net l1_ratios: [0, 0.5, 1]\n",
      "poly: OFF\n",
      "number of models in ensemble: 700\n",
      "random state: 0\n",
      "verbose: 1\n",
      "SELECTED FAETURES ARE : Index(['PRTUMRES', 'SURGMET', 'MORPH_Other', 'CGA1_Negative'], dtype='object')\n",
      "R2:  -0.5485556263280531\n",
      "RMSEP:  1174.779412568518\n"
     ]
    }
   ],
   "source": [
    "my_C_params = [0.1, 0.3, 0.5, 0.7, 1, 10]\n",
    "my_l1_ratios = [0, 0.5, 1]\n",
    "\n",
    "for train_index, test_index in rkf.split(X, y):\n",
    "    train_data, test_data = X.loc[train_index , : ] , X.loc[test_index,:]\n",
    "    train_labels, test_labels = y[train_index], y[test_index]\n",
    "    train_labels = train_labels.to_numpy()\n",
    "    analysis =  RENT.RENT_Regression(data=train_data, \n",
    "                                target=train_labels, \n",
    "                                feat_names=X.columns, \n",
    "                                C= my_C_params, \n",
    "                                l1_ratios=my_l1_ratios,\n",
    "                                autoEnetParSel=True,\n",
    "                                poly='OFF',\n",
    "                                testsize_range=(0.25,0.25),\n",
    "                                K=700,\n",
    "                                random_state=0,\n",
    "                                verbose=1)\n",
    "\n",
    "    analysis.train()\n",
    "    selected_features = analysis.select_features(tau_1_cutoff=0.9, tau_2_cutoff=0.9, tau_3_cutoff=0.975)\n",
    "    print('SELECTED FAETURES ARE : {}'.format(train_data.columns[selected_features]))\n",
    "    # Scale the data accordingly\n",
    "    sc = StandardScaler()\n",
    "    train_data_1 = sc.fit_transform(train_data.iloc[:, selected_features])\n",
    "    test_data_1 = sc.transform(test_data.iloc[:, selected_features])\n",
    "    # Train model with \n",
    "    prediction_model = LinearRegression().fit(train_data_1, train_labels)\n",
    "    print(\"R2: \", r2_score(test_labels, prediction_model.predict(test_data_1)))\n",
    "    print(\"RMSEP: \", np.sqrt(mean_squared_error(test_labels, prediction_model.predict(test_data_1))))"
   ]
  },
  {
   "cell_type": "markdown",
   "metadata": {},
   "source": [
    "- Table 5.7 in the thesis summarizes the above results."
   ]
  },
  {
   "cell_type": "markdown",
   "metadata": {},
   "source": [
    "## Second block"
   ]
  },
  {
   "cell_type": "markdown",
   "metadata": {},
   "source": [
    "### Repeated 4 fold cross-validation"
   ]
  },
  {
   "cell_type": "code",
   "execution_count": 6,
   "metadata": {},
   "outputs": [
    {
     "data": {
      "text/plain": [
       "8"
      ]
     },
     "execution_count": 6,
     "metadata": {},
     "output_type": "execute_result"
    }
   ],
   "source": [
    "rkf = RepeatedKFold(n_splits=4, n_repeats=2, random_state=10)\n",
    "rkf.get_n_splits(X2, y)"
   ]
  },
  {
   "cell_type": "code",
   "execution_count": 7,
   "metadata": {
    "scrolled": true
   },
   "outputs": [
    {
     "name": "stdout",
     "output_type": "stream",
     "text": [
      "data dimension: (60, 27)  data type: <class 'pandas.core.frame.DataFrame'>\n",
      "target dimension: (60,)\n",
      "regularization parameters C: [0.1, 0.3, 0.5, 0.7, 1, 10]\n",
      "elastic net l1_ratios: [0, 0.5, 1]\n",
      "poly: OFF\n",
      "number of models in ensemble: 700\n",
      "random state: 0\n",
      "verbose: 1\n",
      "SELECTED FAETURES ARE : Index(['PLATELTS_>400x10ˆ9/L', 'CGA2_Normal'], dtype='object')\n",
      "R2:  -0.08062243850440098\n",
      "RMSEP:  1045.959236001211\n",
      "data dimension: (60, 27)  data type: <class 'pandas.core.frame.DataFrame'>\n",
      "target dimension: (60,)\n",
      "regularization parameters C: [0.1, 0.3, 0.5, 0.7, 1, 10]\n",
      "elastic net l1_ratios: [0, 0.5, 1]\n",
      "poly: OFF\n",
      "number of models in ensemble: 700\n",
      "random state: 0\n",
      "verbose: 1\n",
      "SELECTED FAETURES ARE : Index(['HIAA_Normal', 'LACTDHDR_> 2UNL', 'LACTDHDR_Not Done', 'CGA2_Normal'], dtype='object')\n",
      "R2:  -0.07194041479400015\n",
      "RMSEP:  951.8269085016691\n",
      "data dimension: (60, 27)  data type: <class 'pandas.core.frame.DataFrame'>\n",
      "target dimension: (60,)\n",
      "regularization parameters C: [0.1, 0.3, 0.5, 0.7, 1, 10]\n",
      "elastic net l1_ratios: [0, 0.5, 1]\n",
      "poly: OFF\n",
      "number of models in ensemble: 700\n",
      "random state: 0\n",
      "verbose: 1\n",
      "SELECTED FAETURES ARE : Index(['ALKPHSPH_Normal', 'ALKPHSPH_Not Done', 'CGA2_Normal'], dtype='object')\n",
      "R2:  -0.25660442356162316\n",
      "RMSEP:  1105.4973448123926\n",
      "data dimension: (60, 27)  data type: <class 'pandas.core.frame.DataFrame'>\n",
      "target dimension: (60,)\n",
      "regularization parameters C: [0.1, 0.3, 0.5, 0.7, 1, 10]\n",
      "elastic net l1_ratios: [0, 0.5, 1]\n",
      "poly: OFF\n",
      "number of models in ensemble: 700\n",
      "random state: 0\n",
      "verbose: 1\n",
      "SELECTED FAETURES ARE : Index(['CGA2_Normal'], dtype='object')\n",
      "R2:  -0.9693150498672847\n",
      "RMSEP:  638.5111110425656\n",
      "data dimension: (60, 27)  data type: <class 'pandas.core.frame.DataFrame'>\n",
      "target dimension: (60,)\n",
      "regularization parameters C: [0.1, 0.3, 0.5, 0.7, 1, 10]\n",
      "elastic net l1_ratios: [0, 0.5, 1]\n",
      "poly: OFF\n",
      "number of models in ensemble: 700\n",
      "random state: 0\n",
      "verbose: 1\n",
      "SELECTED FAETURES ARE : Index(['CGA2_Normal'], dtype='object')\n",
      "R2:  -0.23695890767531425\n",
      "RMSEP:  484.7588872894411\n",
      "data dimension: (60, 27)  data type: <class 'pandas.core.frame.DataFrame'>\n",
      "target dimension: (60,)\n",
      "regularization parameters C: [0.1, 0.3, 0.5, 0.7, 1, 10]\n",
      "elastic net l1_ratios: [0, 0.5, 1]\n",
      "poly: OFF\n",
      "number of models in ensemble: 700\n",
      "random state: 0\n",
      "verbose: 1\n",
      "SELECTED FAETURES ARE : Index(['LACTDHDR_Not Done', 'CGA2_Normal'], dtype='object')\n",
      "R2:  -0.00149869546311443\n",
      "RMSEP:  1229.3820476419196\n",
      "data dimension: (60, 27)  data type: <class 'pandas.core.frame.DataFrame'>\n",
      "target dimension: (60,)\n",
      "regularization parameters C: [0.1, 0.3, 0.5, 0.7, 1, 10]\n",
      "elastic net l1_ratios: [0, 0.5, 1]\n",
      "poly: OFF\n",
      "number of models in ensemble: 700\n",
      "random state: 0\n",
      "verbose: 1\n",
      "SELECTED FAETURES ARE : Index(['LACTDHDR_Not Done', 'ALKPHSPH_>Normal <= 3 UNL', 'ALKPHSPH_Normal',\n",
      "       'ALKPHSPH_Not Done', 'CGA2_> 2UNL', 'CGA2_Normal', 'CGA2_Not Done'],\n",
      "      dtype='object')\n",
      "R2:  -1.4129048481088993\n",
      "RMSEP:  1094.0919949739955\n",
      "data dimension: (60, 27)  data type: <class 'pandas.core.frame.DataFrame'>\n",
      "target dimension: (60,)\n",
      "regularization parameters C: [0.1, 0.3, 0.5, 0.7, 1, 10]\n",
      "elastic net l1_ratios: [0, 0.5, 1]\n",
      "poly: OFF\n",
      "number of models in ensemble: 700\n",
      "random state: 0\n",
      "verbose: 1\n",
      "SELECTED FAETURES ARE : Index(['LACTDHDR_> 2UNL', 'LACTDHDR_Not Done', 'CGA2_Normal'], dtype='object')\n",
      "R2:  -0.04381035607283845\n",
      "RMSEP:  964.5033103786022\n"
     ]
    }
   ],
   "source": [
    "my_C_params = [0.1, 0.3, 0.5, 0.7, 1, 10]\n",
    "my_l1_ratios = [0, 0.5, 1]\n",
    "\n",
    "for train_index, test_index in rkf.split(X2, y):\n",
    "    train_data, test_data = X2.loc[train_index , : ] , X2.loc[test_index,:]\n",
    "    train_labels, test_labels = y[train_index], y[test_index]\n",
    "    train_labels = train_labels.to_numpy()\n",
    "    analysis =  RENT.RENT_Regression(data=train_data, \n",
    "                                target=train_labels, \n",
    "                                feat_names=X2.columns, \n",
    "                                C= my_C_params, \n",
    "                                l1_ratios=my_l1_ratios,\n",
    "                                autoEnetParSel=True,\n",
    "                                poly='OFF',\n",
    "                                testsize_range=(0.25,0.25),\n",
    "                                K=700,\n",
    "                                random_state=0,\n",
    "                                verbose=1)\n",
    "\n",
    "    analysis.train()\n",
    "    selected_features = analysis.select_features(tau_1_cutoff=0.9, tau_2_cutoff=0.9, tau_3_cutoff=0.975)\n",
    "    print('SELECTED FAETURES ARE : {}'.format(train_data.columns[selected_features]))\n",
    "    # Scale the data accordingly\n",
    "    sc = StandardScaler()\n",
    "    train_data_1 = sc.fit_transform(train_data.iloc[:, selected_features])\n",
    "    test_data_1 = sc.transform(test_data.iloc[:, selected_features])\n",
    "    # Train model with \n",
    "    prediction_model = LinearRegression().fit(train_data_1, train_labels)\n",
    "    print(\"R2: \", r2_score(test_labels, prediction_model.predict(test_data_1)))\n",
    "    print(\"RMSEP: \", np.sqrt(mean_squared_error(test_labels, prediction_model.predict(test_data_1))))"
   ]
  },
  {
   "cell_type": "markdown",
   "metadata": {},
   "source": [
    "- Table 5.8 in the thesis summarizes the above results."
   ]
  }
 ],
 "metadata": {
  "kernelspec": {
   "display_name": "Python 3",
   "language": "python",
   "name": "python3"
  },
  "language_info": {
   "codemirror_mode": {
    "name": "ipython",
    "version": 3
   },
   "file_extension": ".py",
   "mimetype": "text/x-python",
   "name": "python",
   "nbconvert_exporter": "python",
   "pygments_lexer": "ipython3",
   "version": "3.8.3"
  }
 },
 "nbformat": 4,
 "nbformat_minor": 4
}
